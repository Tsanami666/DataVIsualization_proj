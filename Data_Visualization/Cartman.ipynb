{
 "cells": [
  {
   "cell_type": "code",
   "execution_count": null,
   "metadata": {},
   "outputs": [],
   "source": [
    "import pandas as pd\n",
    "import hvplot.pandas\n",
    "\n",
    "df = pd.read_csv(\"vgsales.csv\")\n",
    "\n",
    "total_sales = df[['Global_Sales', 'Year']].groupby('Year').sum()\n",
    "\n",
    "total_sales.hvplot.line(x = 'Year', y = 'Global_Sales', title = 'Total Global Sales of Video Games Every year',\n",
    "                        width = 800, height = 500, ylabel = 'Global Sales')"
   ]
  },
  {
   "cell_type": "code",
   "execution_count": null,
   "metadata": {},
   "outputs": [],
   "source": [
    "df = pd.read_csv('vgsales.csv')\n",
    "\n",
    "per_genre = df[['Genre', 'Global_Sales']].groupby('Genre').sum()\n",
    "\n",
    "per_genre.hvplot.bar(x = 'Genre', y = 'Global_Sales', title = 'Video Games total Sales in terms of Genre',\n",
    "                     width = 800, height = 500, xlabel = 'Global Sales', color = 'Global_Sales',\n",
    "                     line_color = None)"
   ]
  },
  {
   "cell_type": "code",
   "execution_count": null,
   "metadata": {},
   "outputs": [],
   "source": [
    "import pandas as pd\n",
    "import hvplot.pandas\n",
    "import panel as pn\n",
    "\n",
    "pn.extension()\n",
    "\n",
    "df = pd.read_csv(\"vgsales.csv\")\n",
    "\n",
    "total_sales = df.groupby(['Year', 'Genre'])['Global_Sales'].sum().reset_index()\n",
    "\n",
    "genre_selector = pn.widgets.Select(options=list(df['Genre'].unique()), name='Genre')\n",
    "\n",
    "@pn.depends(genre_selector.param.value)\n",
    "def update(genre):\n",
    "    df_filtered = total_sales[total_sales['Genre'] == genre]\n",
    "    return df_filtered.hvplot.line(x='Year', y='Global_Sales', \n",
    "                                   width=800, height=500, xlabel='Year', \n",
    "                                   ylabel='Global Sales', legend='bottom_right')\n",
    "\n",
    "dashboard = pn.Column(pn.Row(genre_selector), update)\n",
    "\n",
    "dashboard.servable()\n"
   ]
  }
 ],
 "metadata": {
  "kernelspec": {
   "display_name": "Python 3",
   "language": "python",
   "name": "python3"
  },
  "language_info": {
   "codemirror_mode": {
    "name": "ipython",
    "version": 3
   },
   "file_extension": ".py",
   "mimetype": "text/x-python",
   "name": "python",
   "nbconvert_exporter": "python",
   "pygments_lexer": "ipython3",
   "version": "3.10.10"
  },
  "orig_nbformat": 4,
  "vscode": {
   "interpreter": {
    "hash": "45f2761d9143732f5eed05566d7ca44ed0cddebe1fa884279492d3f34ac4cccf"
   }
  }
 },
 "nbformat": 4,
 "nbformat_minor": 2
}
