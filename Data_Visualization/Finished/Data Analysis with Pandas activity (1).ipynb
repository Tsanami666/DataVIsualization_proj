{
 "cells": [
  {
   "cell_type": "code",
   "execution_count": null,
   "id": "db2abcfa-cd43-4b4d-a397-0dfea825e4ca",
   "metadata": {},
   "outputs": [],
   "source": [
    "# Charles Andrei Sarmiento\n",
    "#BSCS - 1st"
   ]
  },
  {
   "cell_type": "code",
   "execution_count": null,
   "id": "170e405f-dfb3-4bea-97b3-03bbdb603601",
   "metadata": {
    "tags": []
   },
   "outputs": [],
   "source": [
    "#1\n",
    "import pandas as pd\n",
    "\n",
    "tezt = pd.read_csv('suicide.csv')\n",
    "\n",
    "first = tezt[['country', 'year', 'sex', 'age', 'suicides/100k pop']]\n",
    "\n",
    "pd.set_option(\"display.max_columns\", 5)\n",
    "pd.set_option(\"display.max_rows\", 27822)\n",
    "\n",
    "print(first)"
   ]
  },
  {
   "cell_type": "code",
   "execution_count": null,
   "id": "9016e5b2-a167-4056-be57-613ea39574fe",
   "metadata": {
    "tags": []
   },
   "outputs": [],
   "source": [
    "#2\n",
    "import pandas as pd\n",
    "\n",
    "tezt = pd.read_csv('suicide.csv')\n",
    "\n",
    "first = tezt[tezt['country'] == 'Philippines'][['country', 'year', 'sex', 'age', 'suicides/100k pop']]\n",
    "\n",
    "pd.set_option(\"display.max_columns\", 5)\n",
    "pd.set_option(\"display.max_rows\", 27822)\n",
    "\n",
    "print(first)"
   ]
  },
  {
   "cell_type": "code",
   "execution_count": null,
   "id": "13f0a4f4-82c3-4845-8814-355c5c137945",
   "metadata": {},
   "outputs": [],
   "source": [
    "#3\n",
    "import pandas as pd\n",
    "\n",
    "tezt = pd.read_csv('suicide.csv')\n",
    "\n",
    "first = tezt[(tezt['country'] == 'Philippines') & (tezt['year'] == 2011)][['country', 'year', 'sex', 'age', 'suicides/100k pop']]\n",
    "\n",
    "pd.set_option(\"display.max_columns\", 5)\n",
    "pd.set_option(\"display.max_rows\", 27822)\n",
    "\n",
    "print(first)"
   ]
  },
  {
   "cell_type": "code",
   "execution_count": 22,
   "id": "6bbc5fa4-8b4f-4272-a2a9-a57a32377e17",
   "metadata": {
    "tags": []
   },
   "outputs": [
    {
     "name": "stdout",
     "output_type": "stream",
     "text": [
      "                 country  year   sex        age  suicides/100k pop\n",
      "20470  Republic of Korea  2005  male  75+ years             176.33\n"
     ]
    }
   ],
   "source": [
    "#4\n",
    "import pandas as pd\n",
    "\n",
    "tezt = pd.read_csv('suicide.csv')\n",
    "\n",
    "tezt_2005 = tezt[tezt['year'] == 2005]\n",
    "\n",
    "max_suicide = tezt_2005['suicides/100k pop'].max()\n",
    "\n",
    "first_max = tezt_2005[tezt_2005['suicides/100k pop'] == max_suicide]\n",
    "\n",
    "pd.set_option(\"display.max_columns\", 5)\n",
    "pd.set_option(\"display.max_rows\", 27822)\n",
    "\n",
    "print(first_max[['country', 'year', 'sex', 'age', 'suicides/100k pop']])"
   ]
  },
  {
   "cell_type": "code",
   "execution_count": null,
   "id": "ea6aa5d6-385c-4c88-9a1f-0bd0ed84325f",
   "metadata": {
    "tags": []
   },
   "outputs": [],
   "source": [
    "#5\n",
    "import pandas as pd\n",
    "\n",
    "tezt = pd.read_csv('suicide.csv')\n",
    "\n",
    "first = tezt.groupby('year').agg({'suicides_no' : sum, 'suicides/100k pop' : sum})\n",
    "\n",
    "order = first.sort_values('suicides_no', ascending = False)\n",
    "\n",
    "pd.set_option(\"display.max_columns\", 5)\n",
    "pd.set_option(\"display.max_rows\", 27822)\n",
    "\n",
    "print(first)"
   ]
  },
  {
   "cell_type": "code",
   "execution_count": null,
   "id": "cebdb78a-19c0-4dea-9247-d9e42e9cfc07",
   "metadata": {
    "tags": []
   },
   "outputs": [],
   "source": [
    "#6\n",
    "import pandas as pd\n",
    "\n",
    "tezt = pd.read_csv('suicide.csv')\n",
    "\n",
    "first = tezt.groupby('sex').agg({'suicides_no' : sum, 'suicides/100k pop' : sum})\n",
    "\n",
    "order = first.sort_values('suicides_no', ascending = False)\n",
    "\n",
    "pd.set_option(\"display.max_columns\", 5)\n",
    "pd.set_option(\"display.max_rows\", 27822)\n",
    "\n",
    "print(first)"
   ]
  },
  {
   "cell_type": "code",
   "execution_count": null,
   "id": "f937f795-616f-41f3-8f84-b0592ae32dff",
   "metadata": {},
   "outputs": [],
   "source": [
    "#7\n",
    "import pandas as pd\n",
    "\n",
    "tezt = pd.read_csv('suicide.csv')\n",
    "\n",
    "first = tezt.groupby('age').agg({'suicides_no' : sum, 'suicides/100k pop' : sum})\n",
    "\n",
    "order = first.sort_values('suicides_no', ascending = False)\n",
    "\n",
    "pd.set_option(\"display.max_columns\", 5)\n",
    "pd.set_option(\"display.max_rows\", 27822)\n",
    "\n",
    "print(first)"
   ]
  },
  {
   "cell_type": "code",
   "execution_count": null,
   "id": "77416634-6937-4fa3-82a2-c303bcb26601",
   "metadata": {
    "tags": []
   },
   "outputs": [],
   "source": [
    "#8\n",
    "import pandas as pd\n",
    "\n",
    "tezt = pd.read_csv('suicide.csv')\n",
    "\n",
    "first = tezt.groupby(['country', 'year']).agg({'suicides_no' : sum, 'suicides/100k pop' : sum})\n",
    "\n",
    "order = first.sort_values('suicides_no', ascending = False)\n",
    "\n",
    "pd.set_option(\"display.max_columns\", 5)\n",
    "pd.set_option(\"display.max_rows\", 27822)\n",
    "\n",
    "print(first)"
   ]
  },
  {
   "cell_type": "code",
   "execution_count": null,
   "id": "cc9a41ea-c5b1-44de-8bae-33cdcd2ffddb",
   "metadata": {
    "tags": []
   },
   "outputs": [],
   "source": [
    "#9\n",
    "import pandas as pd\n",
    "\n",
    "tezt = pd.read_csv('suicide.csv')\n",
    "\n",
    "per_country = tezt[tezt['country'] == 'Philippines']\n",
    "\n",
    "first = per_country.groupby(['year', 'sex', 'age']).agg({'suicides_no' : sum})\n",
    "\n",
    "pd.set_option(\"display.max_columns\", 5)\n",
    "pd.set_option(\"display.max_rows\", 27822)\n",
    "\n",
    "print(first)"
   ]
  },
  {
   "cell_type": "code",
   "execution_count": 39,
   "id": "0681b3c2-1320-456c-92f1-c92531ae767f",
   "metadata": {
    "tags": []
   },
   "outputs": [
    {
     "name": "stdout",
     "output_type": "stream",
     "text": [
      "   year  suicides_no\n",
      "0  2011         2449\n"
     ]
    }
   ],
   "source": [
    "#10\n",
    "import pandas as pd\n",
    "\n",
    "tezt = pd.read_csv('suicide.csv')\n",
    "\n",
    "tezt_2005 = tezt[tezt['country'] == 'Philippines']\n",
    "\n",
    "total_suicides = tezt_2005.groupby(['year']).agg({'suicides_no' : sum})\n",
    "\n",
    "max_year = total_suicides.idxmax()[0]\n",
    "max_suicides = total_suicides.loc[max_year]['suicides_no']\n",
    "\n",
    "first = pd.DataFrame({'year' : [max_year], 'suicides_no' : [max_suicides]})\n",
    "\n",
    "pd.set_option(\"display.max_columns\", 5)\n",
    "pd.set_option(\"display.max_rows\", 27822)\n",
    "\n",
    "print(first)"
   ]
  },
  {
   "cell_type": "code",
   "execution_count": null,
   "id": "f2c005bc-809b-4655-bb8d-67f3ef0e6d97",
   "metadata": {},
   "outputs": [],
   "source": []
  }
 ],
 "metadata": {
  "kernelspec": {
   "display_name": "Python 3 (ipykernel)",
   "language": "python",
   "name": "python3"
  },
  "language_info": {
   "codemirror_mode": {
    "name": "ipython",
    "version": 3
   },
   "file_extension": ".py",
   "mimetype": "text/x-python",
   "name": "python",
   "nbconvert_exporter": "python",
   "pygments_lexer": "ipython3",
   "version": "3.10.6"
  }
 },
 "nbformat": 4,
 "nbformat_minor": 5
}
