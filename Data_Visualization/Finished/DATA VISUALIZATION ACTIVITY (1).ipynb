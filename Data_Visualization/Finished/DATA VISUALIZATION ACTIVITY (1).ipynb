{
 "cells": [
  {
   "cell_type": "code",
   "execution_count": null,
   "id": "abfa383d",
   "metadata": {},
   "outputs": [],
   "source": [
    "import pandas as pd\n",
    "import hvplot.pandas\n",
    "\n",
    "suicides = pd.read_csv('suicide.csv')\n",
    "\n",
    "suicides_per_year = suicides[[\"age\", \"suicides/100k pop\"]].groupby(\"age\").sum()\n",
    "\n",
    "suicides_per_year.hvplot.bar(x='age', y='suicides/100k pop', title='Worldwide Average Suicide Cases by Age Group', \n",
    "                xlabel='Age group', ylabel='Suicides per 100k population', \n",
    "                height=400, width=600, color='blue', line_color = None, rot=45)"
   ]
  },
  {
   "cell_type": "code",
   "execution_count": null,
   "id": "654305af",
   "metadata": {},
   "outputs": [],
   "source": [
    "suicides = pd.read_csv('suicide.csv')\n",
    "\n",
    "suicides_per_year = suicides[[\"year\", \"suicides/100k pop\"]].groupby(\"year\").sum()\n",
    "\n",
    "suicides_per_year.hvplot(line_color = 'blue', line_width = 3, title = 'Worlwide Average Suicide Cases by year (1985-2016)', xlabel = 'Suicides per 100k population',\n",
    "                ylabel = 'Year (1985-2016)', width = 800, height = 500,\n",
    "                fontsize = {'xticks':11, 'yticks': 11, 'ylabel': 12, 'xlabel': 12, 'title': 16})"
   ]
  },
  {
   "cell_type": "code",
   "execution_count": null,
   "id": "16bfccb3",
   "metadata": {},
   "outputs": [],
   "source": [
    "suicides = pd.read_csv('suicide.csv')\n",
    "\n",
    "suicides_per_year = suicides[[\"country\", \"suicides/100k pop\"]].groupby(\"country\").sum()\n",
    "\n",
    "suicides_year_sorted = suicides_per_year.sort_values('suicides/100k pop', ascending = False)\n",
    "\n",
    "top10_country = suicides_year_sorted.head(10)\n",
    "\n",
    "top10_country.hvplot.bar(x='country', y='suicides/100k pop', title='Top 10 Countries with the Highest Suicide Cases Based on Suicides/100k Population', \n",
    "                xlabel='Top 10 Countries with the Highest Suicide Cases', ylabel='Suicides per 100k population', \n",
    "                height=400, width=600, color='blue', line_color = None,rot=45)"
   ]
  },
  {
   "cell_type": "code",
   "execution_count": null,
   "id": "4647cf32",
   "metadata": {},
   "outputs": [],
   "source": [
    "suicides = pd.read_csv('suicide.csv')\n",
    "\n",
    "suicides_per_year = suicides[[\"country\", \"suicides/100k pop\"]].groupby(\"country\").sum()\n",
    "\n",
    "suicides_year_sorted = suicides_per_year.sort_values('suicides/100k pop', ascending = True)\n",
    "\n",
    "top10_country = suicides_year_sorted.head(10)\n",
    "\n",
    "top10_country.hvplot.bar(x='country', y='suicides/100k pop', title='Top 10 Countries with the Lowest Suicide Cases Based on Suicides/100k Population', \n",
    "                xlabel='Top 10 Countries with the lowest Suicide Cases', ylabel='Suicides per 100k population', \n",
    "                height=400, width=600, color='blue',line_color = None, rot=45)"
   ]
  },
  {
   "cell_type": "code",
   "execution_count": null,
   "id": "ec4e8f18",
   "metadata": {},
   "outputs": [],
   "source": [
    "suicides = pd.read_csv('suicide.csv')\n",
    "\n",
    "suicides_per_year = suicides[[\"generation\", \"suicides/100k pop\"]].groupby(\"generation\").sum()\n",
    "\n",
    "suicides_per_year.hvplot.bar(x='generation', y='suicides/100k pop', title='Suicide cases per Generation', \n",
    "                xlabel='Suicide Cases per Generation', ylabel='Suicides per 100k population', \n",
    "                height=400, width=600, color='blue',line_color = None, rot=45)"
   ]
  },
  {
   "cell_type": "code",
   "execution_count": null,
   "id": "b8a29623",
   "metadata": {},
   "outputs": [],
   "source": [
    "suicides = pd.read_csv('suicide.csv')\n",
    "\n",
    "suicides_per_year = suicides[[\"sex\", \"suicides/100k pop\"]].groupby(\"sex\").sum()\n",
    "\n",
    "suicides_per_year.hvplot.bar(x='sex', y='suicides/100k pop', title='Suicide cases trend by gender', \n",
    "                xlabel='Suicide Cases per Gender', ylabel='Suicides per 100k population', \n",
    "                height=400, width=600, color='blue', line_color = None,rot=45)"
   ]
  },
  {
   "cell_type": "code",
   "execution_count": null,
   "id": "1201ae84",
   "metadata": {},
   "outputs": [],
   "source": [
    "suicides = pd.read_csv('suicide.csv')\n",
    "\n",
    "ph_suicides = suicides[suicides['country'] == 'Philippines']\n",
    "\n",
    "ph_suicides_pivot = ph_suicides.pivot_table(index = ['age', 'sex'], columns = 'year', values = 'suicides_no')\n",
    "\n",
    "ph_suicides_pivot.hvplot.bar(stacked = True, width = 800, height = 500,\n",
    "                             xlabel = 'Age group and Sex', ylabel = 'Suicide Number',\n",
    "                             title = 'Suicide Cases in the Philippines by Age group and Sex',\n",
    "                             legend = 'bottom')"
   ]
  },
  {
   "cell_type": "code",
   "execution_count": 57,
   "id": "17a19453",
   "metadata": {},
   "outputs": [
    {
     "data": {},
     "metadata": {},
     "output_type": "display_data"
    },
    {
     "data": {
      "application/vnd.holoviews_exec.v0+json": "",
      "text/html": [
       "<div id='5427'>\n",
       "  <div class=\"bk-root\" id=\"04aaecb7-dc7d-4844-bed7-9a8c38bba59f\" data-root-id=\"5427\"></div>\n",
       "</div>\n",
       "<script type=\"application/javascript\">(function(root) {\n",
       "  function embed_document(root) {\n",
       "    var docs_json = {\"802007de-bd9b-40c3-adde-91163002152c\":{\"defs\":[{\"extends\":null,\"module\":null,\"name\":\"ReactiveHTML1\",\"overrides\":[],\"properties\":[]},{\"extends\":null,\"module\":null,\"name\":\"FlexBox1\",\"overrides\":[],\"properties\":[{\"default\":\"flex-start\",\"kind\":null,\"name\":\"align_content\"},{\"default\":\"flex-start\",\"kind\":null,\"name\":\"align_items\"},{\"default\":\"row\",\"kind\":null,\"name\":\"flex_direction\"},{\"default\":\"wrap\",\"kind\":null,\"name\":\"flex_wrap\"},{\"default\":\"flex-start\",\"kind\":null,\"name\":\"justify_content\"}]},{\"extends\":null,\"module\":null,\"name\":\"GridStack1\",\"overrides\":[],\"properties\":[{\"default\":\"warn\",\"kind\":null,\"name\":\"mode\"},{\"default\":null,\"kind\":null,\"name\":\"ncols\"},{\"default\":null,\"kind\":null,\"name\":\"nrows\"},{\"default\":true,\"kind\":null,\"name\":\"allow_resize\"},{\"default\":true,\"kind\":null,\"name\":\"allow_drag\"},{\"default\":[],\"kind\":null,\"name\":\"state\"}]},{\"extends\":null,\"module\":null,\"name\":\"click1\",\"overrides\":[],\"properties\":[{\"default\":\"\",\"kind\":null,\"name\":\"terminal_output\"},{\"default\":\"\",\"kind\":null,\"name\":\"debug_name\"},{\"default\":0,\"kind\":null,\"name\":\"clears\"}]},{\"extends\":null,\"module\":null,\"name\":\"NotificationAreaBase1\",\"overrides\":[],\"properties\":[{\"default\":\"bottom-right\",\"kind\":null,\"name\":\"position\"},{\"default\":0,\"kind\":null,\"name\":\"_clear\"}]},{\"extends\":null,\"module\":null,\"name\":\"NotificationArea1\",\"overrides\":[],\"properties\":[{\"default\":[],\"kind\":null,\"name\":\"notifications\"},{\"default\":\"bottom-right\",\"kind\":null,\"name\":\"position\"},{\"default\":0,\"kind\":null,\"name\":\"_clear\"},{\"default\":[{\"background\":\"#ffc107\",\"icon\":{\"className\":\"fas fa-exclamation-triangle\",\"color\":\"white\",\"tagName\":\"i\"},\"type\":\"warning\"},{\"background\":\"#007bff\",\"icon\":{\"className\":\"fas fa-info-circle\",\"color\":\"white\",\"tagName\":\"i\"},\"type\":\"info\"}],\"kind\":null,\"name\":\"types\"}]},{\"extends\":null,\"module\":null,\"name\":\"Notification\",\"overrides\":[],\"properties\":[{\"default\":null,\"kind\":null,\"name\":\"background\"},{\"default\":3000,\"kind\":null,\"name\":\"duration\"},{\"default\":null,\"kind\":null,\"name\":\"icon\"},{\"default\":\"\",\"kind\":null,\"name\":\"message\"},{\"default\":null,\"kind\":null,\"name\":\"notification_type\"},{\"default\":false,\"kind\":null,\"name\":\"_destroyed\"}]},{\"extends\":null,\"module\":null,\"name\":\"TemplateActions1\",\"overrides\":[],\"properties\":[{\"default\":0,\"kind\":null,\"name\":\"open_modal\"},{\"default\":0,\"kind\":null,\"name\":\"close_modal\"}]},{\"extends\":null,\"module\":null,\"name\":\"MaterialTemplateActions1\",\"overrides\":[],\"properties\":[{\"default\":0,\"kind\":null,\"name\":\"open_modal\"},{\"default\":0,\"kind\":null,\"name\":\"close_modal\"}]}],\"roots\":{\"references\":[{\"attributes\":{},\"id\":\"5448\",\"type\":\"SaveTool\"},{\"attributes\":{},\"id\":\"5471\",\"type\":\"BasicTickFormatter\"},{\"attributes\":{\"overlay\":{\"id\":\"5453\"}},\"id\":\"5451\",\"type\":\"BoxZoomTool\"},{\"attributes\":{\"children\":[{\"id\":\"5431\"}],\"height\":500,\"margin\":[0,0,0,0],\"name\":\"Row05810\",\"sizing_mode\":\"fixed\",\"tags\":[\"embedded\"],\"width\":800},\"id\":\"5427\",\"type\":\"Row\"},{\"attributes\":{},\"id\":\"5452\",\"type\":\"ResetTool\"},{\"attributes\":{\"bottom_units\":\"screen\",\"coordinates\":null,\"fill_alpha\":0.5,\"fill_color\":\"lightgrey\",\"group\":null,\"left_units\":\"screen\",\"level\":\"overlay\",\"line_alpha\":1.0,\"line_color\":\"black\",\"line_dash\":[4,4],\"line_width\":2,\"right_units\":\"screen\",\"syncable\":false,\"top_units\":\"screen\"},\"id\":\"5453\",\"type\":\"BoxAnnotation\"},{\"attributes\":{\"line_alpha\":0.2,\"line_color\":\"blue\",\"line_width\":3,\"x\":{\"field\":\"year\"},\"y\":{\"field\":\"suicides_no\"}},\"id\":\"5466\",\"type\":\"Line\"},{\"attributes\":{\"line_alpha\":0.1,\"line_color\":\"blue\",\"line_width\":3,\"x\":{\"field\":\"year\"},\"y\":{\"field\":\"suicides_no\"}},\"id\":\"5465\",\"type\":\"Line\"},{\"attributes\":{\"source\":{\"id\":\"5461\"}},\"id\":\"5468\",\"type\":\"CDSView\"},{\"attributes\":{\"line_color\":\"blue\",\"line_width\":3,\"x\":{\"field\":\"year\"},\"y\":{\"field\":\"suicides_no\"}},\"id\":\"5469\",\"type\":\"Line\"},{\"attributes\":{\"coordinates\":null,\"data_source\":{\"id\":\"5461\"},\"glyph\":{\"id\":\"5464\"},\"group\":null,\"hover_glyph\":null,\"muted_glyph\":{\"id\":\"5466\"},\"nonselection_glyph\":{\"id\":\"5465\"},\"selection_glyph\":{\"id\":\"5469\"},\"view\":{\"id\":\"5468\"}},\"id\":\"5467\",\"type\":\"GlyphRenderer\"},{\"attributes\":{},\"id\":\"5474\",\"type\":\"BasicTickFormatter\"},{\"attributes\":{},\"id\":\"5436\",\"type\":\"LinearScale\"},{\"attributes\":{},\"id\":\"5475\",\"type\":\"AllLabels\"},{\"attributes\":{\"end\":2011.0,\"reset_end\":2011.0,\"reset_start\":1992.0,\"start\":1992.0,\"tags\":[[[\"year\",\"year\",null]]]},\"id\":\"5428\",\"type\":\"Range1d\"},{\"attributes\":{\"active_drag\":{\"id\":\"5449\"},\"active_scroll\":{\"id\":\"5450\"},\"tools\":[{\"id\":\"5430\"},{\"id\":\"5448\"},{\"id\":\"5449\"},{\"id\":\"5450\"},{\"id\":\"5451\"},{\"id\":\"5452\"}]},\"id\":\"5454\",\"type\":\"Toolbar\"},{\"attributes\":{},\"id\":\"5472\",\"type\":\"AllLabels\"},{\"attributes\":{\"below\":[{\"id\":\"5440\"}],\"center\":[{\"id\":\"5443\"},{\"id\":\"5447\"}],\"height\":500,\"left\":[{\"id\":\"5444\"}],\"margin\":[5,5,5,5],\"min_border_bottom\":10,\"min_border_left\":10,\"min_border_right\":10,\"min_border_top\":10,\"renderers\":[{\"id\":\"5467\"}],\"sizing_mode\":\"fixed\",\"title\":{\"id\":\"5432\"},\"toolbar\":{\"id\":\"5454\"},\"width\":800,\"x_range\":{\"id\":\"5428\"},\"x_scale\":{\"id\":\"5436\"},\"y_range\":{\"id\":\"5429\"},\"y_scale\":{\"id\":\"5438\"}},\"id\":\"5431\",\"subtype\":\"Figure\",\"type\":\"Plot\"},{\"attributes\":{\"end\":221.60000000000002,\"reset_end\":221.60000000000002,\"reset_start\":11.399999999999999,\"start\":11.399999999999999,\"tags\":[[[\"suicides_no\",\"suicides_no\",null]]]},\"id\":\"5429\",\"type\":\"Range1d\"},{\"attributes\":{},\"id\":\"5487\",\"type\":\"UnionRenderers\"},{\"attributes\":{\"callback\":null,\"renderers\":[{\"id\":\"5467\"}],\"tags\":[\"hv_created\"],\"tooltips\":[[\"year\",\"@{year}\"],[\"suicides_no\",\"@{suicides_no}\"]]},\"id\":\"5430\",\"type\":\"HoverTool\"},{\"attributes\":{},\"id\":\"5438\",\"type\":\"LinearScale\"},{\"attributes\":{\"line_color\":\"blue\",\"line_width\":3,\"x\":{\"field\":\"year\"},\"y\":{\"field\":\"suicides_no\"}},\"id\":\"5464\",\"type\":\"Line\"},{\"attributes\":{},\"id\":\"5449\",\"type\":\"PanTool\"},{\"attributes\":{\"coordinates\":null,\"group\":null,\"text\":\"Philippine Average Suicide Cases by Year (1992-2011)\",\"text_color\":\"black\",\"text_font_size\":\"16pt\"},\"id\":\"5432\",\"type\":\"Title\"},{\"attributes\":{\"axis\":{\"id\":\"5440\"},\"coordinates\":null,\"grid_line_color\":null,\"group\":null,\"ticker\":null},\"id\":\"5443\",\"type\":\"Grid\"},{\"attributes\":{},\"id\":\"5462\",\"type\":\"Selection\"},{\"attributes\":{\"axis_label\":\"Year (1992-2011)\",\"axis_label_text_font_size\":\"12pt\",\"coordinates\":null,\"formatter\":{\"id\":\"5471\"},\"group\":null,\"major_label_policy\":{\"id\":\"5472\"},\"major_label_text_font_size\":\"11pt\",\"ticker\":{\"id\":\"5441\"}},\"id\":\"5440\",\"type\":\"LinearAxis\"},{\"attributes\":{\"data\":{\"suicides_no\":{\"__ndarray__\":\"q6qqqqrqPEAAAAAAAKBRQFVVVVVV9VBAVVVVVVVlUkCrqqqqqrpVQKuqqqqqOl1AVVVVVVUVWUCrqqqqqhpbQFVVVVVVFWBAAAAAAACgYkAAAAAAALBhQFVVVVVV9WJAq6qqqqqaZUCrqqqqqgpmQKuqqqqqgmlA\",\"dtype\":\"float64\",\"order\":\"little\",\"shape\":[15]},\"year\":[1992,1993,1997,1998,1999,2000,2001,2002,2003,2006,2007,2008,2009,2010,2011]},\"selected\":{\"id\":\"5462\"},\"selection_policy\":{\"id\":\"5487\"}},\"id\":\"5461\",\"type\":\"ColumnDataSource\"},{\"attributes\":{},\"id\":\"5441\",\"type\":\"BasicTicker\"},{\"attributes\":{\"axis_label\":\"Suicide Cases\",\"axis_label_text_font_size\":\"12pt\",\"coordinates\":null,\"formatter\":{\"id\":\"5474\"},\"group\":null,\"major_label_policy\":{\"id\":\"5475\"},\"major_label_text_font_size\":\"11pt\",\"ticker\":{\"id\":\"5445\"}},\"id\":\"5444\",\"type\":\"LinearAxis\"},{\"attributes\":{\"axis\":{\"id\":\"5444\"},\"coordinates\":null,\"dimension\":1,\"grid_line_color\":null,\"group\":null,\"ticker\":null},\"id\":\"5447\",\"type\":\"Grid\"},{\"attributes\":{},\"id\":\"5445\",\"type\":\"BasicTicker\"},{\"attributes\":{},\"id\":\"5450\",\"type\":\"WheelZoomTool\"}],\"root_ids\":[\"5427\"]},\"title\":\"Bokeh Application\",\"version\":\"2.4.3\"}};\n",
       "    var render_items = [{\"docid\":\"802007de-bd9b-40c3-adde-91163002152c\",\"root_ids\":[\"5427\"],\"roots\":{\"5427\":\"04aaecb7-dc7d-4844-bed7-9a8c38bba59f\"}}];\n",
       "    root.Bokeh.embed.embed_items_notebook(docs_json, render_items);\n",
       "    for (const render_item of render_items) {\n",
       "      for (const root_id of render_item.root_ids) {\n",
       "\tconst id_el = document.getElementById(root_id)\n",
       "\tif (id_el.children.length && (id_el.children[0].className === 'bk-root')) {\n",
       "\t  const root_el = id_el.children[0]\n",
       "\t  root_el.id = root_el.id + '-rendered'\n",
       "\t}\n",
       "      }\n",
       "    }\n",
       "  }\n",
       "  if (root.Bokeh !== undefined && root.Bokeh.Panel !== undefined) {\n",
       "    embed_document(root);\n",
       "  } else {\n",
       "    var attempts = 0;\n",
       "    var timer = setInterval(function(root) {\n",
       "      if (root.Bokeh !== undefined && root.Bokeh.Panel !== undefined) {\n",
       "        clearInterval(timer);\n",
       "        embed_document(root);\n",
       "      } else if (document.readyState == \"complete\") {\n",
       "        attempts++;\n",
       "        if (attempts > 200) {\n",
       "          clearInterval(timer);\n",
       "          console.log(\"Bokeh: ERROR: Unable to run BokehJS code because BokehJS library is missing\");\n",
       "        }\n",
       "      }\n",
       "    }, 25, root)\n",
       "  }\n",
       "})(window);</script>"
      ],
      "text/plain": [
       ":Curve   [year]   (suicides_no)"
      ]
     },
     "execution_count": 57,
     "metadata": {
      "application/vnd.holoviews_exec.v0+json": {
       "id": "5427"
      }
     },
     "output_type": "execute_result"
    }
   ],
   "source": [
    "suicides = pd.read_csv('suicide.csv')\n",
    "\n",
    "suicides_ph = suicides[(suicides['country'] == 'Philippines') & \n",
    "                       (suicides['year']>=1992) &\n",
    "                       (suicides['year']<=2011)]\n",
    "\n",
    "suicides_ph_per_year = suicides_ph.groupby('year')['suicides_no'].mean()\n",
    "\n",
    "suicides_ph_per_year.hvplot(line_color='blue', line_width=3, \n",
    "                                 title='Philippine Average Suicide Cases by Year (1992-2011)', \n",
    "                                 xlabel='Year (1992-2011)', ylabel='Suicide Cases',\n",
    "                                 width=800, height=500, \n",
    "                                 fontsize={'xticks':11, 'yticks':11, 'ylabel':12, 'xlabel':12, 'title':16})"
   ]
  }
 ],
 "metadata": {
  "kernelspec": {
   "display_name": "Python 3 (ipykernel)",
   "language": "python",
   "name": "python3"
  },
  "language_info": {
   "codemirror_mode": {
    "name": "ipython",
    "version": 3
   },
   "file_extension": ".py",
   "mimetype": "text/x-python",
   "name": "python",
   "nbconvert_exporter": "python",
   "pygments_lexer": "ipython3",
   "version": "3.10.6"
  }
 },
 "nbformat": 4,
 "nbformat_minor": 5
}
