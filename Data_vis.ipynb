{
 "cells": [
  {
   "cell_type": "code",
   "execution_count": null,
   "metadata": {},
   "outputs": [],
   "source": [
    "import pandas as pd\n",
    "import hvplot.pandas\n",
    "\n",
    "\n",
    "df = pd.read_csv('vgsales.csv')\n",
    "\n",
    "per_year = df[['Year', 'Global_Sales']].groupby('Year').sum()\n",
    "\n",
    "per_year.hvplot.line(x='Year', y='Global_Sales', title='Global Sales of Video Games Every Year (1982 - 2020)',\n",
    "                     width=800, height=500, ylabel='Global Sales')"
   ]
  },
  {
   "cell_type": "code",
   "execution_count": null,
   "metadata": {},
   "outputs": [],
   "source": [
    "df = pd.read_csv('vgsales.csv')\n",
    "\n",
    "per_genre = df[['Genre', 'Global_Sales']].groupby('Genre').sum()\n",
    "\n",
    "per_genre.hvplot.bar(x='Genre', y='Global_Sales', title='Global Sales of Video Games per Genre',\n",
    "                     width=800, height=500, color='Global_Sales', ylabel='Global Sales', \n",
    "                     line_color=None, rot=45)"
   ]
  },
  {
   "cell_type": "code",
   "execution_count": null,
   "metadata": {},
   "outputs": [],
   "source": [
    "df = pd.read_csv('vgsales.csv')\n",
    "\n",
    "total_per_genre = df.groupby(['Genre', 'Year'])['Global_Sales'].sum()\n",
    "\n",
    "total_per_genre.hvplot.bar(x='Year', y='Global_Sales', groupby='Genre',\n",
    "                            title='Total Sales of Video Games per Genre Every Year',\n",
    "                            xlabel='Year (1982 - 2020)', ylabel='Global Sales',\n",
    "                            width=800, height=500, color='Global_Sales', line_color=None,\n",
    "                            rot=45)"
   ]
  },
  {
   "cell_type": "code",
   "execution_count": null,
   "metadata": {},
   "outputs": [],
   "source": [
    "import pandas as pd\n",
    "import hvplot.pandas\n",
    "\n",
    "df = pd.read_csv('vgsales.csv')\n",
    "\n",
    "top_sales = df.groupby('Publisher')['Global_Sales'].sum().reset_index()\n",
    "\n",
    "top_10 = top_sales.sort_values('Global_Sales', ascending=False).head(20)\n",
    "\n",
    "top_10.hvplot.bar(x='Publisher', y='Global_Sales', title='Game Publisher with the Highest Total Sales',\n",
    "                     ylabel='Total Sales', width=800, height=500, color='Global_Sales', line_color=None,\n",
    "                     rot=45)\n"
   ]
  },
  {
   "cell_type": "code",
   "execution_count": null,
   "metadata": {},
   "outputs": [],
   "source": [
    "import pandas as pd\n",
    "import hvplot.pandas\n",
    "\n",
    "df = pd.read_csv('vgsales.csv')\n",
    "\n",
    "top_platform = df.groupby(['Year', 'Publisher'])['Global_Sales'].sum()\n",
    "\n",
    "top_platform.hvplot.line(x='Year', y='Global_Sales', groupby='Publisher',\n",
    "                         title='Total Sales of Publisher Over Time', ylabel='Total Sales',\n",
    "                         width=800, height=500, rot=45)"
   ]
  },
  {
   "cell_type": "code",
   "execution_count": null,
   "metadata": {},
   "outputs": [],
   "source": [
    "import pandas as pd\n",
    "import hvplot.pandas\n",
    "\n",
    "df = pd.read_csv('vgsales.csv')\n",
    "\n",
    "grouped = df.groupby(['Name']).agg({'NA_Sales': 'sum', 'EU_Sales': 'sum', 'JP_Sales': 'sum'})\n",
    "\n",
    "na_top_10 = grouped.sort_values(by='NA_Sales', ascending=False).head(10)\n",
    "eu_top_10 = grouped.sort_values(by='EU_Sales', ascending=False).head(10)\n",
    "jp_top_10 = grouped.sort_values(by='JP_Sales', ascending=False).head(10)\n",
    "\n",
    "na_top_10.hvplot.bar(x='Name', y=['NA_Sales', 'EU_Sales', 'JP_Sales'], stacked=False, width=1000, height=500,\n",
    "                     title='Top 10 Selling Games in North America, Europe, and Japan', rot=45,)\n",
    "eu_top_10.hvplot.bar(x='Name', y=['NA_Sales', 'EU_Sales', 'JP_Sales'], stacked=False, width=1000, height=500,\n",
    "                     title='Top 10 Selling Games in North America, Europe, and Japan', rot=45)\n",
    "jp_top_10.hvplot.bar(x='Name', y=['NA_Sales', 'EU_Sales', 'JP_Sales'], stacked=False, width=1000, height=500,\n",
    "                     title='Top 10 Selling Games in North America, Europe, and Japan', rot=45)\n"
   ]
  },
  {
   "cell_type": "code",
   "execution_count": null,
   "metadata": {},
   "outputs": [],
   "source": [
    "import pandas as pd\n",
    "import hvplot.pandas\n",
    "\n",
    "df = pd.read_csv('vgsales.csv')\n",
    "\n",
    "total_sales = df.groupby(['Genre', 'Year'])['Global_Sales'].sum().reset_index()\n",
    "\n",
    "total_sales.hvplot.line(x='Year', y='Global_Sales', groupby='Genre', \n",
    "                         xlabel='Year', ylabel='Global Sales', \n",
    "                         title='Sales of Video Games per Genre Over Time', \n",
    "                         width=800, height=500, legend='bottom_right')"
   ]
  },
  {
   "cell_type": "code",
   "execution_count": null,
   "metadata": {},
   "outputs": [],
   "source": [
    "import pandas as pd\n",
    "import hvplot.pandas\n",
    "import holoviews as hv\n",
    "\n",
    "df = pd.read_csv('vgsales.csv')\n",
    "\n",
    "# convert Global_Sales to a numeric type and drop any missing values\n",
    "df['Global_Sales'] = pd.to_numeric(df['Global_Sales'], errors='coerce')\n",
    "df = df.dropna(subset=['Global_Sales'])\n",
    "\n",
    "top_10_sales = df.sort_values('Global_Sales', ascending=False).head(10)\n",
    "\n",
    "hv.extension('bokeh')\n",
    "\n",
    "violin_plot = top_10_sales.hvplot.violin(y='Global_Sales', by='Platform', \n",
    "                 xlabel='Platform', ylabel='Global Sales', \n",
    "                 title='Distribution of Sales for Different Platforms', \n",
    "                 width=800, height=500, legend=False, ylim=(-5, 80))\n",
    "\n",
    "violin_plot\n",
    "\n"
   ]
  },
  {
   "cell_type": "code",
   "execution_count": null,
   "metadata": {},
   "outputs": [],
   "source": [
    "import pandas as pd\n",
    "import hvplot.pandas\n",
    "import holoviews as hv\n",
    "\n",
    "df = pd.read_csv('vgsales.csv')\n",
    "\n",
    "# convert Global_Sales to a numeric type and drop any missing values\n",
    "df['Global_Sales'] = pd.to_numeric(df['Global_Sales'], errors='coerce')\n",
    "df = df.dropna(subset=['Global_Sales'])\n",
    "\n",
    "# get top 10 platforms by total global sales\n",
    "top_10_platforms = df.groupby('Platform').sum().sort_values('Global_Sales', ascending=False).head(10).index.tolist()\n",
    "\n",
    "hv.extension('bokeh')\n",
    "\n",
    "# plot sales trend for top 10 platforms\n",
    "platform_sales_trend = df[df['Platform'].isin(top_10_platforms)].groupby(['Year', 'Platform'])['Global_Sales'].sum().reset_index()\n",
    "\n",
    "platform_sales_trend.hvplot.line(x='Year', y='Global_Sales', by='Platform', \n",
    "                                 xlabel='Year', ylabel='Global Sales', \n",
    "                                 title='Sales Trend for Top 10 Platforms', \n",
    "                                 width=800, height=500, \n",
    "                                 legend='top_left', \n",
    "                                 colormap='Category10')\n"
   ]
  },
  {
   "cell_type": "code",
   "execution_count": null,
   "metadata": {},
   "outputs": [],
   "source": [
    "import pandas as pd\n",
    "import hvplot.pandas\n",
    "import holoviews as hv\n",
    "\n",
    "df = pd.read_csv('vgsales.csv')\n",
    "\n",
    "# Group by publisher and sum global sales\n",
    "top_publishers = df.groupby('Publisher')['Global_Sales'].sum().reset_index()\n",
    "\n",
    "# Sort by global sales in descending order and take top 10 publishers\n",
    "top_publishers = top_publishers.sort_values('Global_Sales', ascending=False).head(10)\n",
    "\n",
    "# Group by year and publisher and sum global sales\n",
    "publisher_sales_by_year = df.groupby(['Year', 'Publisher'])['Global_Sales'].sum().reset_index()\n",
    "\n",
    "# Filter to only include top publishers\n",
    "publisher_sales_by_year = publisher_sales_by_year[publisher_sales_by_year['Publisher'].isin(top_publishers['Publisher'])]\n",
    "\n",
    "hv.extension('bokeh')\n",
    "\n",
    "publisher_sales_by_year.hvplot.line(x='Year', y='Global_Sales', by='Publisher', \n",
    "                                    title='Top 10 Publishers by Global Sales Over Time',\n",
    "                                    xlabel='Year', ylabel='Global Sales', \n",
    "                                    width=800, height=500, legend='top_left').opts(\n",
    "                                    yformatter='%.0f')\n",
    "\n",
    "\n"
   ]
  }
 ],
 "metadata": {
  "kernelspec": {
   "display_name": "Python 3",
   "language": "python",
   "name": "python3"
  },
  "language_info": {
   "codemirror_mode": {
    "name": "ipython",
    "version": 3
   },
   "file_extension": ".py",
   "mimetype": "text/x-python",
   "name": "python",
   "nbconvert_exporter": "python",
   "pygments_lexer": "ipython3",
   "version": "3.10.4"
  },
  "orig_nbformat": 4
 },
 "nbformat": 4,
 "nbformat_minor": 2
}
